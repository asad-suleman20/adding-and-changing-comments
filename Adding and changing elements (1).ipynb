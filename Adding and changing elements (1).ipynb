{
 "cells": [
  {
   "cell_type": "code",
   "execution_count": 1,
   "metadata": {},
   "outputs": [
    {
     "name": "stdout",
     "output_type": "stream",
     "text": [
      "['Atlanta', 'Baltimore', 'Chicago', 'Los Angeles', 'Seattle']\n"
     ]
    }
   ],
   "source": [
    "cities = [\"Atlanta\", \"Baltimore\", \"Chicago\", \"Los Angeles\", \"Seattle\"];\n",
    "print (cities);"
   ]
  },
  {
   "cell_type": "code",
   "execution_count": 9,
   "metadata": {},
   "outputs": [
    {
     "name": "stdout",
     "output_type": "stream",
     "text": [
      "Atlanta\n"
     ]
    }
   ],
   "source": [
    "print (cities [0]);"
   ]
  },
  {
   "cell_type": "code",
   "execution_count": 6,
   "metadata": {},
   "outputs": [
    {
     "name": "stdout",
     "output_type": "stream",
     "text": [
      "[112, 20]\n"
     ]
    }
   ],
   "source": [
    "# Learning list\n",
    "\n",
    "arr = [112,20];\n",
    "print (arr)"
   ]
  },
  {
   "cell_type": "code",
   "execution_count": 7,
   "metadata": {},
   "outputs": [
    {
     "name": "stdout",
     "output_type": "stream",
     "text": [
      "Hello World\n"
     ]
    }
   ],
   "source": [
    "\"\"\"We are learning Python Programming \n",
    "learning list now\"\"\"\n",
    "\n",
    "print (\"Hello World\");"
   ]
  },
  {
   "cell_type": "code",
   "execution_count": 17,
   "metadata": {},
   "outputs": [
    {
     "name": "stdout",
     "output_type": "stream",
     "text": [
      "['Las Vegas', 'New York', 'New York', 'Los Angeles', 'Seattle', 'New York', 'New York', 'New York', 'New York', 'England']\n"
     ]
    }
   ],
   "source": [
    "cities[0]=\"Las Vegas\";\n",
    "print(cities);"
   ]
  },
  {
   "cell_type": "code",
   "execution_count": 12,
   "metadata": {},
   "outputs": [
    {
     "name": "stdout",
     "output_type": "stream",
     "text": [
      "['Atlanta', 'Baltimore', 'New York', 'Los Angeles', 'Seattle', 'New York', 'New York', 'New York', 'New York', 'England']\n"
     ]
    }
   ],
   "source": [
    "cities.append(\"England\");\n",
    "print (cities);"
   ]
  },
  {
   "cell_type": "code",
   "execution_count": 19,
   "metadata": {},
   "outputs": [
    {
     "name": "stdout",
     "output_type": "stream",
     "text": [
      "['Las Vegas', 'New York', 'New York', 'Los Angeles', 'Seattle', 'New York', 'New York', 'New York', 'New York', 'England', 112, 20]\n"
     ]
    }
   ],
   "source": [
    "newList = cities + arr;\n",
    "print (newList);"
   ]
  },
  {
   "cell_type": "code",
   "execution_count": 23,
   "metadata": {},
   "outputs": [
    {
     "name": "stdout",
     "output_type": "stream",
     "text": [
      "['Las Vegas', 'New York', 'New York', 'Los Angeles', 'Seattle', 'New York', 'New York', 'London', 'New York', 'New York', 'England']\n"
     ]
    }
   ],
   "source": [
    "cities.insert (7, \"London\")\n",
    "print (cities)"
   ]
  },
  {
   "cell_type": "code",
   "execution_count": 24,
   "metadata": {},
   "outputs": [
    {
     "name": "stdout",
     "output_type": "stream",
     "text": [
      "['Las Vegas', 'New York', 'New York', 'Los Angeles', 'Seattle', 'New York', 'New York', 'London', 'Manchester', 'New York', 'New York', 'England']\n"
     ]
    }
   ],
   "source": [
    "cities.insert (8, \"Manchester\")\n",
    "print (cities)"
   ]
  },
  {
   "cell_type": "code",
   "execution_count": 25,
   "metadata": {},
   "outputs": [
    {
     "name": "stdout",
     "output_type": "stream",
     "text": [
      "['Las Vegas', 'New York', 'New York', 'Los Angeles', 'Seattle', 'New York', 'New York', 'London', 'Manchester', 'United Kingdom', 'New York', 'New York', 'England']\n"
     ]
    }
   ],
   "source": [
    "cities.insert (9, \"United Kingdom\")\n",
    "print (cities)"
   ]
  },
  {
   "cell_type": "code",
   "execution_count": 32,
   "metadata": {},
   "outputs": [
    {
     "name": "stdout",
     "output_type": "stream",
     "text": [
      "['Las Vegas', 'New York', 'Los Angeles', 'Seattle', 'New York', 'New York', 'London', 'Manchester', 'United Kingdom', 'New York', 'New York', 'England']\n"
     ]
    }
   ],
   "source": [
    "del cities[2]\n",
    "print (cities)"
   ]
  },
  {
   "cell_type": "code",
   "execution_count": 33,
   "metadata": {},
   "outputs": [
    {
     "name": "stdout",
     "output_type": "stream",
     "text": [
      "['Las Vegas', 'New York', 'Los Angeles', 'Seattle', 'New York', 'London', 'Manchester', 'United Kingdom', 'New York', 'New York', 'England']\n"
     ]
    }
   ],
   "source": [
    "del cities [5]\n",
    "print (cities)"
   ]
  },
  {
   "cell_type": "code",
   "execution_count": 35,
   "metadata": {},
   "outputs": [
    {
     "name": "stdout",
     "output_type": "stream",
     "text": [
      "['Las Vegas', 'New York', 'Los Angeles', 'Seattle', 'New York', 'London', 'Manchester', 'United Kingdom', 'New York']\n"
     ]
    }
   ],
   "source": [
    "del cities [9]\n",
    "print (cities)"
   ]
  },
  {
   "cell_type": "code",
   "execution_count": 44,
   "metadata": {},
   "outputs": [
    {
     "name": "stdout",
     "output_type": "stream",
     "text": [
      "['Las Vegas', 'New York', 'Los Angeles', 'Seattle', 'New York', 'London', 'Manchester', 'United Kingdom', 'New York']\n"
     ]
    }
   ],
   "source": [
    "cities[:5]\n",
    "print (cities)"
   ]
  },
  {
   "cell_type": "code",
   "execution_count": 45,
   "metadata": {},
   "outputs": [
    {
     "name": "stdout",
     "output_type": "stream",
     "text": [
      "['Las Vegas', 'New York', 'Los Angeles', 'Seattle', 'New York', 'London', 'Manchester', 'United Kingdom']\n"
     ]
    }
   ],
   "source": [
    "del cities [8]\n",
    "print (cities)"
   ]
  },
  {
   "cell_type": "code",
   "execution_count": 51,
   "metadata": {},
   "outputs": [
    {
     "name": "stdout",
     "output_type": "stream",
     "text": [
      "Welcome to Lahore\n"
     ]
    }
   ],
   "source": [
    "city0 = \"Karachi\";\n",
    "city1 = \" Lahore\";\n",
    "city2 = \"Islamabad\";\n",
    "city3 = \"Peshawar\";\n",
    "city4 = \"Bahawalpur\";\n",
    "city5 = \"Sialkot\";\n",
    "print (\"Welcome to\" + city_1);"
   ]
  },
  {
   "cell_type": "code",
   "execution_count": 61,
   "metadata": {
    "scrolled": true
   },
   "outputs": [
    {
     "ename": "SyntaxError",
     "evalue": "invalid syntax (<ipython-input-61-e285b3dd065c>, line 2)",
     "output_type": "error",
     "traceback": [
      "\u001b[1;36m  File \u001b[1;32m\"<ipython-input-61-e285b3dd065c>\"\u001b[1;36m, line \u001b[1;32m2\u001b[0m\n\u001b[1;33m    print (+city\",\"+city1+\",\"+city2+\",\"+city3+\",\"+city4+\",\"+city5)\u001b[0m\n\u001b[1;37m                  ^\u001b[0m\n\u001b[1;31mSyntaxError\u001b[0m\u001b[1;31m:\u001b[0m invalid syntax\n"
     ]
    }
   ],
   "source": [
    "cities = [\"Karachi\", \"Lahore\", \"Islamabad\", \"Peshawar\", \"Bahawalpur\", \"Sialkot\"]\n",
    "print (+city\",\"+city1+\",\"+city2+\",\"+city3+\",\"+city4+\",\"+city5)"
   ]
  },
  {
   "cell_type": "code",
   "execution_count": 72,
   "metadata": {},
   "outputs": [
    {
     "name": "stdout",
     "output_type": "stream",
     "text": [
      "Karachi,Lahore,Islamabad,Peshawar,Bahawalpur,Sialkot\n"
     ]
    }
   ],
   "source": [
    "city0 = \"Karachi\";\n",
    "city1 = \"Lahore\";\n",
    "city2 = \"Islamabad\";\n",
    "city3 = \"Peshawar\";\n",
    "city4 = \"Bahawalpur\";\n",
    "city5 = \"Sialkot\";\n",
    "print (city0+\",\"+city1+\",\"+city2+\",\"+city3+\",\"+city4+\",\"+city5)"
   ]
  },
  {
   "cell_type": "code",
   "execution_count": 67,
   "metadata": {},
   "outputs": [
    {
     "name": "stdout",
     "output_type": "stream",
     "text": [
      "['Karachi', 'Islamabad', 'Peshawar', 'Bahawalpur', 'Sialkot']\n"
     ]
    }
   ],
   "source": [
    "del cities[1]\n",
    "print (cities)"
   ]
  },
  {
   "cell_type": "code",
   "execution_count": 71,
   "metadata": {},
   "outputs": [
    {
     "name": "stdout",
     "output_type": "stream",
     "text": [
      "['Karachi', 'Islamabad', 'Peshawar', 'Bahawalpur', 'Sialkot', 'Rawalpindi']\n"
     ]
    }
   ],
   "source": [
    "cities.append(\"Rawalpindi\")\n",
    "print (cities)"
   ]
  },
  {
   "cell_type": "code",
   "execution_count": null,
   "metadata": {},
   "outputs": [],
   "source": []
  }
 ],
 "metadata": {
  "kernelspec": {
   "display_name": "Python 3",
   "language": "python",
   "name": "python3"
  },
  "language_info": {
   "codemirror_mode": {
    "name": "ipython",
    "version": 3
   },
   "file_extension": ".py",
   "mimetype": "text/x-python",
   "name": "python",
   "nbconvert_exporter": "python",
   "pygments_lexer": "ipython3",
   "version": "3.7.6"
  }
 },
 "nbformat": 4,
 "nbformat_minor": 4
}
